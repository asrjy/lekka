{
 "cells": [
  {
   "cell_type": "code",
   "execution_count": 1,
   "metadata": {},
   "outputs": [],
   "source": [
    "str = \"399. cakes. bakery\""
   ]
  },
  {
   "cell_type": "code",
   "execution_count": 5,
   "metadata": {},
   "outputs": [
    {
     "ename": "TypeError",
     "evalue": "'str' object is not callable",
     "output_type": "error",
     "traceback": [
      "\u001b[0;31m---------------------------------------------------------------------------\u001b[0m",
      "\u001b[0;31mTypeError\u001b[0m                                 Traceback (most recent call last)",
      "Cell \u001b[0;32mIn[5], line 7\u001b[0m\n\u001b[1;32m      1\u001b[0m \u001b[39m# split string at '.' \u001b[39;00m\n\u001b[1;32m      2\u001b[0m \u001b[39m# extract number from the split values\u001b[39;00m\n\u001b[1;32m      3\u001b[0m \u001b[39m# convert to int\u001b[39;00m\n\u001b[1;32m      4\u001b[0m \u001b[39m# store the remaining values as a string called description\u001b[39;00m\n\u001b[1;32m      6\u001b[0m number \u001b[39m=\u001b[39m \u001b[39mint\u001b[39m(\u001b[39mstr\u001b[39m\u001b[39m.\u001b[39msplit(\u001b[39m'\u001b[39m\u001b[39m.\u001b[39m\u001b[39m'\u001b[39m)[\u001b[39m0\u001b[39m])\n\u001b[0;32m----> 7\u001b[0m description \u001b[39m=\u001b[39m \u001b[39mstr\u001b[39m\u001b[39m.\u001b[39msplit(\u001b[39mstr\u001b[39;49m(number))\n",
      "\u001b[0;31mTypeError\u001b[0m: 'str' object is not callable"
     ]
    }
   ],
   "source": [
    "# split string at '.' \n",
    "# extract number from the split values\n",
    "# convert to int\n",
    "# store the remaining values as a string called description\n",
    "\n",
    "number = int(str.split('.')[0])\n",
    "description = str.split(str(number))\n"
   ]
  },
  {
   "cell_type": "code",
   "execution_count": null,
   "metadata": {},
   "outputs": [],
   "source": []
  }
 ],
 "metadata": {
  "kernelspec": {
   "display_name": "ml",
   "language": "python",
   "name": "python3"
  },
  "language_info": {
   "codemirror_mode": {
    "name": "ipython",
    "version": 3
   },
   "file_extension": ".py",
   "mimetype": "text/x-python",
   "name": "python",
   "nbconvert_exporter": "python",
   "pygments_lexer": "ipython3",
   "version": "3.8.13 | packaged by conda-forge | (default, Mar 25 2022, 06:05:16) \n[Clang 12.0.1 ]"
  },
  "orig_nbformat": 4,
  "vscode": {
   "interpreter": {
    "hash": "f23292d08bdbed8f4f387e7c9af6bbd6ceef091bb5c9b216d935cddecd784453"
   }
  }
 },
 "nbformat": 4,
 "nbformat_minor": 2
}
